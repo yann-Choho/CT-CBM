{
 "cells": [
  {
   "cell_type": "markdown",
   "metadata": {
    "application/vnd.databricks.v1+cell": {
     "cellMetadata": {},
     "inputWidgets": {},
     "nuid": "0745a076-0599-4a14-a5ff-3e1b0ab4d383",
     "showTitle": false,
     "title": ""
    }
   },
   "source": [
    "# Ours Annotation (e.g on any Dataset)\n",
    "---\n",
    "Goal of the notebook: .\n",
    "\n",
    "Inputs of the notebook:\n",
    "- Dataset as pandas dataframe.\n",
    "\n",
    "Output of the notebook:\n",
    "- dataframe and dataloader of the augmented dataset with concepts\n"
   ]
  },
  {
   "cell_type": "code",
   "execution_count": null,
   "metadata": {},
   "outputs": [],
   "source": [
    "# !pip install -r requirements.txt"
   ]
  },
  {
   "cell_type": "code",
   "execution_count": 1,
   "metadata": {
    "application/vnd.databricks.v1+cell": {
     "cellMetadata": {
      "byteLimit": 2048000,
      "rowLimit": 10000
     },
     "inputWidgets": {},
     "nuid": "61184a1f-5298-493b-bf64-b31f6b8d93ca",
     "showTitle": false,
     "title": ""
    }
   },
   "outputs": [],
   "source": [
    "import sys\n",
    "sys.path.append('../../run_experiments/')\n",
    "sys.path.append('../../run_experiments/scripts')\n",
    "sys.path.append('../../run_experiments/models')\n",
    "sys.path.append('../../run_experiments/data')\n",
    "\n",
    "# library for managing memory RAM\n",
    "import gc\n",
    "\n"
   ]
  },
  {
   "cell_type": "code",
   "execution_count": 2,
   "metadata": {
    "application/vnd.databricks.v1+cell": {
     "cellMetadata": {
      "byteLimit": 2048000,
      "rowLimit": 10000
     },
     "inputWidgets": {},
     "nuid": "50839d65-be00-4f76-8e12-c122b7b69d6d",
     "showTitle": false,
     "title": ""
    }
   },
   "outputs": [],
   "source": [
    "#code for autoreload script associated with jupyter notebook\n",
    "%load_ext autoreload\n",
    "%autoreload 2"
   ]
  },
  {
   "cell_type": "code",
   "execution_count": 3,
   "metadata": {},
   "outputs": [],
   "source": [
    "from annotation_ours import launch_our_annotation"
   ]
  },
  {
   "cell_type": "markdown",
   "metadata": {},
   "source": [
    "# Augment Train data"
   ]
  },
  {
   "cell_type": "markdown",
   "metadata": {},
   "source": [
    "Movies"
   ]
  },
  {
   "cell_type": "code",
   "execution_count": null,
   "metadata": {
    "scrolled": true
   },
   "outputs": [],
   "source": [
    "# import args\n",
    "from config_movies import Config\n",
    "config = Config()\n",
    "\n",
    "# import the data\n",
    "from data_movies import prepare_movies_data\n",
    "train_loader, test_loader, val_loader, train_df, val_df, test_df = prepare_movies_data(config)"
   ]
  },
  {
   "cell_type": "code",
   "execution_count": null,
   "metadata": {},
   "outputs": [],
   "source": [
    "launch_our_annotation(model_name = 'google/gemma-2-9b-it',\n",
    "                      hf_access_token = 'xxxx', \n",
    "                      train_df = train_df, \n",
    "                      val_df = val_df,\n",
    "                      test_df = test_df,\n",
    "                      config = config,\n",
    "                      save_dir = 'dbfs/concept_xai/CBM/results_movies/concepts_discovery_try_code',\n",
    "                      n_cluster = 100,\n",
    "                     )"
   ]
  },
  {
   "cell_type": "markdown",
   "metadata": {},
   "source": [
    "medical"
   ]
  },
  {
   "cell_type": "code",
   "execution_count": 10,
   "metadata": {},
   "outputs": [],
   "source": [
    "# import args\n",
    "from config_medical import Config\n",
    "config = Config()\n",
    "\n",
    "# import the data\n",
    "from data_medical import prepare_medical_data\n",
    "train_loader, test_loader, val_loader, train_df, val_df, test_df = prepare_medical_data(config)"
   ]
  },
  {
   "cell_type": "code",
   "execution_count": null,
   "metadata": {},
   "outputs": [],
   "source": [
    "launch_our_annotation(model_name = 'google/gemma-2-9b-it',\n",
    "                      hf_access_token = 'xxxx', \n",
    "                      train_df = train_df, \n",
    "                      val_df = val_df,\n",
    "                      test_df = test_df,\n",
    "                      config = config,\n",
    "                      save_dir = 'dbfs/concept_xai/CBM/results_movies/concepts_discovery_try_code',\n",
    "                      n_cluster = 100,\n",
    "                     )"
   ]
  },
  {
   "cell_type": "markdown",
   "metadata": {},
   "source": [
    "dbpedia"
   ]
  },
  {
   "cell_type": "code",
   "execution_count": null,
   "metadata": {},
   "outputs": [],
   "source": [
    "# import args\n",
    "from config_dbpedia import Config\n",
    "config = Config()\n",
    "\n",
    "# import the data\n",
    "from data_dbpedia import prepare_dbpedia_data\n",
    "train_loader, test_loader, val_loader, train_df, val_df, test_df = prepare_dbpedia_data(config)"
   ]
  },
  {
   "cell_type": "code",
   "execution_count": null,
   "metadata": {},
   "outputs": [],
   "source": [
    "launch_our_annotation(model_name = 'google/gemma-2-9b-it',\n",
    "                      hf_access_token = 'xxxx', \n",
    "                      train_df = train_df, \n",
    "                      val_df = val_df,\n",
    "                      test_df = test_df,\n",
    "                      config = config,\n",
    "                      save_dir = 'dbfs/concept_xai/CBM/results_movies/concepts_discovery_try_code',\n",
    "                      n_cluster = 100,\n",
    "                     )"
   ]
  },
  {
   "cell_type": "markdown",
   "metadata": {},
   "source": [
    "agnews"
   ]
  },
  {
   "cell_type": "code",
   "execution_count": null,
   "metadata": {},
   "outputs": [],
   "source": [
    "# import args\n",
    "from config_agnews import Config\n",
    "config = Config()\n",
    "\n",
    "# import the data\n",
    "from data_movies import prepare_agnews_data\n",
    "train_loader, test_loader, val_loader, train_df, val_df, test_df = prepare_agnews_data(config)"
   ]
  },
  {
   "cell_type": "code",
   "execution_count": null,
   "metadata": {},
   "outputs": [],
   "source": [
    "launch_our_annotation(model_name = 'google/gemma-2-9b-it',\n",
    "                      hf_access_token = 'xxxx', \n",
    "                      train_df = train_df, \n",
    "                      val_df = val_df,\n",
    "                      test_df = test_df,\n",
    "                      config = config,\n",
    "                      save_dir = 'dbfs/concept_xai/CBM/results_movies/concepts_discovery_try_code',\n",
    "                      n_cluster = 100,\n",
    "                     )"
   ]
  }
 ],
 "metadata": {
  "application/vnd.databricks.v1+notebook": {
   "dashboards": [],
   "environmentMetadata": {
    "base_environment": "",
    "client": "1"
   },
   "language": "python",
   "notebookMetadata": {
    "pythonIndentUnit": 4
   },
   "notebookName": "4_Joint_Incremental_CBM_notebook",
   "widgets": {}
  },
  "kernelspec": {
   "display_name": "Python 3 (ipykernel)",
   "language": "python",
   "name": "python3"
  },
  "language_info": {
   "codemirror_mode": {
    "name": "ipython",
    "version": 3
   },
   "file_extension": ".py",
   "mimetype": "text/x-python",
   "name": "python",
   "nbconvert_exporter": "python",
   "pygments_lexer": "ipython3",
   "version": "3.12.3"
  }
 },
 "nbformat": 4,
 "nbformat_minor": 4
}
