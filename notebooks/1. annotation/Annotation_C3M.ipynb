{
 "cells": [
  {
   "cell_type": "markdown",
   "id": "154489de-24e6-4390-b55d-8cb4c086bcd3",
   "metadata": {},
   "source": [
    "# Annotation C3M (e.g on ledgar datset)\n",
    "---\n",
    "Goal of the notebook: .\n",
    "\n",
    "Inputs of the notebook:\n",
    "- Dataset as pandas dataframe : with a column \"text\" and a \"label\" column\n",
    "- Concepts list \n",
    "\n",
    "Output of the notebook:\n",
    "- dataframe and dataloader of the augmented dataset with concepts\n"
   ]
  },
  {
   "cell_type": "code",
   "execution_count": null,
   "id": "8b3d9ed5-ac5a-4424-81ed-8be84ecdd878",
   "metadata": {},
   "outputs": [],
   "source": [
    "import sys\n",
    "sys.path.append('../../run_experiments/')\n",
    "sys.path.append('../../run_experiments/scripts')\n",
    "sys.path.append('../../run_experiments/models')\n",
    "sys.path.append('../../run_experiments/data')\n",
    "\n",
    "\n",
    "import time\n",
    "from tqdm import tqdm\n",
    "import numpy as np\n",
    "import pandas as pd\n",
    "\n",
    "import torch\n",
    "import torch.nn as nn\n",
    "from datasets import load_dataset\n",
    "from sklearn.metrics import f1_score\n",
    "from torch.optim.lr_scheduler import StepLR\n",
    "from torch.utils.data import DataLoader, Dataset, Subset\n",
    "\n",
    "\n",
    "# model for CBM\n",
    "# import fonction for getting PLM and tokenizer\n",
    "from models.utils import load_model_and_tokenizer\n",
    "\n",
    "# import config \n",
    "from config_ledgar import Config\n",
    "\n",
    "# library for managing memory RAM\n",
    "import gc\n",
    "\n"
   ]
  },
  {
   "cell_type": "code",
   "execution_count": null,
   "id": "ff406797-3467-4f84-8bda-4e2519efcfe6",
   "metadata": {},
   "outputs": [],
   "source": [
    "#code for autoreload script associated with jupyter notebook\n",
    "%load_ext autoreload\n",
    "%autoreload 2"
   ]
  },
  {
   "cell_type": "code",
   "execution_count": null,
   "id": "4b0c5cfd-b46c-4459-aa5b-ce13d387b2f8",
   "metadata": {},
   "outputs": [],
   "source": [
    "torch.cuda.empty_cache()\n",
    "gc.collect()"
   ]
  },
  {
   "cell_type": "code",
   "execution_count": null,
   "id": "bae66fb0-ebc5-4f04-a935-908c13e1490a",
   "metadata": {},
   "outputs": [],
   "source": [
    "#Importing SLM for annotation\n",
    "\n",
    "from transformers import AutoTokenizer, AutoModelForCausalLM\n",
    "import torch\n",
    "\n",
    "hf_token = \"xxxxxxxxxxxxxxxx\" \n",
    "\n",
    "tokenizer = AutoTokenizer.from_pretrained(\"google/gemma-2-9b-it\", use_auth_token=hf_token)\n",
    "model = AutoModelForCausalLM.from_pretrained(\n",
    "    \"google/gemma-2-9b-it\",\n",
    "    device_map=\"auto\", use_auth_token=hf_token,\n",
    ")\n"
   ]
  },
  {
   "cell_type": "code",
   "execution_count": null,
   "id": "f5877630-6b43-4947-9488-ad6ae2321c03",
   "metadata": {},
   "outputs": [],
   "source": [
    "use_cuda = torch.cuda.is_available()\n",
    "device = torch.device(\"cuda\" if use_cuda else \"cpu\")\n",
    "print(torch.cuda.device_count())\n",
    "model.to(device)"
   ]
  },
  {
   "cell_type": "code",
   "execution_count": null,
   "id": "27fcdf17-8bd7-449f-9d61-db60c4567960",
   "metadata": {},
   "outputs": [],
   "source": [
    "#C3M"
   ]
  },
  {
   "cell_type": "code",
   "execution_count": null,
   "id": "2da21f1a-6686-4321-a036-94aeb69986f4",
   "metadata": {},
   "outputs": [],
   "source": [
    "Amendments_concepts = ['Modification rights', 'Amendment procedures', 'Notice requirements', 'Approval mechanisms', 'Integration with original agreement', 'Format requirements', 'Severability of amendments', 'Retroactive application', 'Waiver limitations', 'Amendment thresholds', 'Unilateral amendment rights', 'Amendment restrictions', 'Prior versions validity', 'Amendment documentation', 'Version control mechanisms', 'Material change provisions']\n",
    "\n",
    "Terminations_concepts = ['Termination rights', 'Notice periods', 'Termination for cause', 'Termination for convenience', 'Cure periods', 'Effect of termination', 'Wind-down procedures', 'Return of property/information', 'Early termination penalties', 'Mutual termination provisions', 'Partial termination rights', 'Force majeure termination', 'Change of control provisions', 'Bankruptcy/insolvency triggers', 'Performance-based termination', 'Regulatory/legal change termination', 'Exit assistance', 'Termination certification requirements', 'Post-termination restrictions', 'Transition obligations']\n",
    "\n",
    "Survival_concepts = ['Post-termination obligations', 'Duration of surviving terms', 'Identification of specific clauses', 'Confidentiality persistence', 'IP rights retention', 'Indemnification continuation', 'Limitation of liability', 'Dispute resolution mechanisms', 'Payment obligations survival', 'Non-compete/non-solicitation persistence', 'Representations/warranties survival', 'Record-keeping requirements', 'Audit rights continuation', 'Escrow arrangements', 'Insurance obligations', 'Remedies availability post-termination', 'Data protection obligations', 'Perpetual rights', 'Transitional licenses', 'Legal compliance requirements']\n",
    "\n",
    "Terms_concepts = ['Duration specifications', 'Commencement date', 'Expiration conditions', 'Renewal mechanisms', 'Term length', 'Condition precedents', 'Milestone-based periods', 'Extension options', 'Initial term vs. renewal term distinctions', 'Notice requirements for non-renewal', 'Evergreen provisions', 'Term modification triggers', 'Retroactive effective dates', 'Trial/probation periods', 'Minimum commitment periods', 'Maximum term limitations', 'Regulatory term constraints', 'Performance-based extensions', 'Phase-in schedules', 'Renegotiation periods', 'Term acceleration provisions', 'Rolling term provisions']\n"
   ]
  },
  {
   "cell_type": "code",
   "execution_count": null,
   "id": "ea3858a7-844c-4dca-a6ca-34bcc7807d4e",
   "metadata": {},
   "outputs": [],
   "source": [
    "concepts_legdar = {'Amendments': Amendments_concepts, 'Survival': Survival_concepts, 'Terms': Terms_concepts, 'Terminations': Terminations_concepts}"
   ]
  },
  {
   "cell_type": "code",
   "execution_count": null,
   "id": "d2f1451f-198a-4447-b1fc-327ad20c79d2",
   "metadata": {},
   "outputs": [],
   "source": [
    "all_concepts_ledgar_list = Amendments_concepts + Survival_concepts + Terms_concepts + Terminations_concepts\n",
    "len(all_concepts_ledgar_list)"
   ]
  },
  {
   "cell_type": "code",
   "execution_count": null,
   "id": "2c5a913f-0540-413a-a4e7-9b0870b20589",
   "metadata": {},
   "outputs": [],
   "source": [
    "# import the data\n",
    "# import config\n",
    "config = Config()\n",
    "\n",
    "# Define the maximum sequence length and batch size\n",
    "model_name = config.model_name\n",
    "dim = config.dim\n",
    "max_len = config.max_len\n",
    "batch_size = config.batch_size\n",
    "lambda_XtoC = config.lambda_XtoC\n",
    "is_aux_logits = config.is_aux_logits\n",
    "num_labels = config.num_labels\n",
    "num_epochs = config.num_epochs          \n",
    "num_each_concept_classes = config.num_each_concept_classes\n",
    "# data_type = config.data_type\n",
    "device = config.device\n",
    "SAVE_PATH = config.SAVE_PATH\n",
    "\n"
   ]
  },
  {
   "cell_type": "code",
   "execution_count": null,
   "id": "90df1151-5084-4f10-af2e-dd2bab32220e",
   "metadata": {
    "scrolled": true
   },
   "outputs": [],
   "source": [
    "from data_ledgar import prepare_ledgar_data\n",
    "train_loader, test_loader, val_loader, train_df, val_df, test_df = prepare_ledgar_data(config)"
   ]
  },
  {
   "cell_type": "code",
   "execution_count": null,
   "id": "8c0aceb1-2f45-452a-83ad-4031177f7eb6",
   "metadata": {},
   "outputs": [],
   "source": [
    "train_df.label.value_counts()"
   ]
  },
  {
   "cell_type": "markdown",
   "id": "ae7014c7-f035-4273-b297-732a266df344",
   "metadata": {},
   "source": [
    "# annotation"
   ]
  },
  {
   "cell_type": "code",
   "execution_count": null,
   "id": "4f271462-88ae-4dc6-9ec3-945199d0f206",
   "metadata": {},
   "outputs": [],
   "source": [
    "from annotation_C3M import get_annotation"
   ]
  },
  {
   "cell_type": "code",
   "execution_count": null,
   "id": "f2cbd881-7af8-46ba-9101-6003e914da0d",
   "metadata": {},
   "outputs": [],
   "source": [
    "import os\n",
    "import json\n",
    "with open(os.path.join(config.SAVE_PATH_CONCEPTS, \"label_mapping.json\"), 'r') as f:\n",
    "    labelling_json = json.load(f)\n",
    "labelling_json"
   ]
  },
  {
   "cell_type": "code",
   "execution_count": null,
   "id": "b1f0a42e-6cbe-4248-b33f-b6e8296ac71d",
   "metadata": {},
   "outputs": [],
   "source": [
    "df_final = test_df[[\"text\", \"label\"]].dropna()\n",
    "df_final.reset_index(drop=True)\n",
    "\n",
    "# Sauvegarder le dataframe final\n",
    "df_final.to_csv(f\"{config.SAVE_PATH_CONCEPTS}/ledgar_test_saved.csv\", index=False)\n"
   ]
  },
  {
   "cell_type": "code",
   "execution_count": null,
   "id": "0aadb9d1-d0ed-4fb0-8a51-3fcdcdbabfe8",
   "metadata": {},
   "outputs": [],
   "source": [
    "df_final = pd.read_csv(f'{config.SAVE_PATH_CONCEPTS}/ledgar_test_saved.csv')\n",
    "df_final['state'] = 'eval'\n",
    "df_final"
   ]
  },
  {
   "cell_type": "code",
   "execution_count": null,
   "id": "a4785c89-656a-422d-b091-c99f8cb90f87",
   "metadata": {
    "scrolled": true
   },
   "outputs": [],
   "source": [
    "df_final_C3M = df_final[df_final.state=='eval'].copy()\n",
    "\n",
    "\n",
    "for c in all_concepts_ledgar_list :\n",
    "    print(c)\n",
    "    concept_annotation_0 = []\n",
    "    for i, t in enumerate(tqdm(df_final_C3M.text, desc=f\"Processing {c}\")):\n",
    "\n",
    "        concept_annotation_0.append(get_annotation(t, c, model, tokenizer))\n",
    "        # print(i,concept_annotation_0[i])\n",
    "    df_final_C3M[c] = concept_annotation_0\n",
    "    \n",
    "    df_final_C3M.loc[df_final_C3M[c].str.contains('detected'), c] = 'detected'\n",
    "    df_final_C3M.loc[df_final_C3M[c].str.contains('missing'), c] = 'missing'\n",
    "    df_final_C3M[c][df_final_C3M[c]==\"detected\"]=1\n",
    "    df_final_C3M[c][df_final_C3M[c]==\"missing\"]=0\n",
    "        \n",
    "    \n",
    "    df_final_C3M.to_csv(f'{config.SAVE_PATH_CONCEPTS}/df_with_topics_v4_C3M_test.csv')"
   ]
  },
  {
   "cell_type": "code",
   "execution_count": null,
   "id": "0827fd4c-cf88-4411-92a6-5fbc3dadf518",
   "metadata": {},
   "outputs": [],
   "source": [
    "concept_annotation_0"
   ]
  }
 ],
 "metadata": {
  "kernelspec": {
   "display_name": "Python 3 (ipykernel)",
   "language": "python",
   "name": "python3"
  },
  "language_info": {
   "codemirror_mode": {
    "name": "ipython",
    "version": 3
   },
   "file_extension": ".py",
   "mimetype": "text/x-python",
   "name": "python",
   "nbconvert_exporter": "python",
   "pygments_lexer": "ipython3",
   "version": "3.12.3"
  }
 },
 "nbformat": 4,
 "nbformat_minor": 5
}
