{
 "cells": [
  {
   "cell_type": "markdown",
   "metadata": {
    "application/vnd.databricks.v1+cell": {
     "cellMetadata": {},
     "inputWidgets": {},
     "nuid": "0745a076-0599-4a14-a5ff-3e1b0ab4d383",
     "showTitle": false,
     "tableResultSettingsMap": {},
     "title": ""
    }
   },
   "source": [
    "# Annotation CB LLM(e.g on ledgar dataset)\n",
    "---\n",
    "Goal of the notebook: .\n",
    "\n",
    "Inputs of the notebook:\n",
    "- Dataset as pandas dataframe : with a column \"text\" and a \"label\" column\n",
    "- Concepts list in a pickle file \n",
    "\n",
    "Output of the notebook:\n",
    "- dataframe and dataloader of the augmented dataset with concepts\n"
   ]
  },
  {
   "cell_type": "code",
   "execution_count": 1,
   "metadata": {
    "application/vnd.databricks.v1+cell": {
     "cellMetadata": {
      "byteLimit": 2048000,
      "rowLimit": 10000
     },
     "inputWidgets": {},
     "nuid": "f2fe4d9f-78bf-4bdf-a303-f3e83a114fa9",
     "showTitle": false,
     "tableResultSettingsMap": {},
     "title": ""
    }
   },
   "outputs": [],
   "source": [
    "# !pip install -r requirements.txt"
   ]
  },
  {
   "cell_type": "code",
   "execution_count": 3,
   "metadata": {
    "application/vnd.databricks.v1+cell": {
     "cellMetadata": {
      "byteLimit": 2048000,
      "rowLimit": 10000
     },
     "inputWidgets": {},
     "nuid": "61184a1f-5298-493b-bf64-b31f6b8d93ca",
     "showTitle": false,
     "tableResultSettingsMap": {},
     "title": ""
    }
   },
   "outputs": [
    {
     "data": {
      "text/plain": [
       "0"
      ]
     },
     "execution_count": 3,
     "metadata": {},
     "output_type": "execute_result"
    }
   ],
   "source": [
    "import sys\n",
    "sys.path.append('../../run_experiments/')\n",
    "sys.path.append('../../run_experiments/scripts')\n",
    "sys.path.append('../../run_experiments/models')\n",
    "sys.path.append('../../run_experiments/data')\n",
    "\n",
    "import gc\n",
    "import torch\n",
    "\n",
    "torch.cuda.empty_cache()\n",
    "gc.collect()"
   ]
  },
  {
   "cell_type": "code",
   "execution_count": 13,
   "metadata": {},
   "outputs": [],
   "source": [
    "#code for autoreload script associated with jupyter notebook\n",
    "%load_ext autoreload\n",
    "%autoreload 2"
   ]
  },
  {
   "cell_type": "markdown",
   "metadata": {
    "application/vnd.databricks.v1+cell": {
     "cellMetadata": {},
     "inputWidgets": {},
     "nuid": "35cdb74e-0d6f-4e0c-bfb4-18a7d429ae21",
     "showTitle": false,
     "tableResultSettingsMap": {},
     "title": ""
    }
   },
   "source": [
    "# 1. Data Loading and Preparation\n"
   ]
  },
  {
   "cell_type": "code",
   "execution_count": 3,
   "metadata": {
    "application/vnd.databricks.v1+cell": {
     "cellMetadata": {
      "byteLimit": 2048000,
      "rowLimit": 10000
     },
     "inputWidgets": {},
     "nuid": "e6cae576-657f-403d-b4d4-e986af811158",
     "showTitle": false,
     "tableResultSettingsMap": {},
     "title": ""
    }
   },
   "outputs": [],
   "source": [
    "# import config\n",
    "from config_ledgar import Config\n",
    "config = Config()"
   ]
  },
  {
   "cell_type": "code",
   "execution_count": 4,
   "metadata": {
    "scrolled": true
   },
   "outputs": [
    {
     "name": "stdout",
     "output_type": "stream",
     "text": [
      "Chargement des fichiers sauvegardés...\n"
     ]
    },
    {
     "name": "stderr",
     "output_type": "stream",
     "text": [
      "A parameter name that contains `beta` will be renamed internally to `bias`. Please use a different name to suppress this warning.\n",
      "A parameter name that contains `gamma` will be renamed internally to `weight`. Please use a different name to suppress this warning.\n",
      "A parameter name that contains `beta` will be renamed internally to `bias`. Please use a different name to suppress this warning.\n",
      "A parameter name that contains `gamma` will be renamed internally to `weight`. Please use a different name to suppress this warning.\n",
      "A parameter name that contains `beta` will be renamed internally to `bias`. Please use a different name to suppress this warning.\n",
      "A parameter name that contains `gamma` will be renamed internally to `weight`. Please use a different name to suppress this warning.\n",
      "A parameter name that contains `beta` will be renamed internally to `bias`. Please use a different name to suppress this warning.\n",
      "A parameter name that contains `gamma` will be renamed internally to `weight`. Please use a different name to suppress this warning.\n",
      "A parameter name that contains `beta` will be renamed internally to `bias`. Please use a different name to suppress this warning.\n",
      "A parameter name that contains `gamma` will be renamed internally to `weight`. Please use a different name to suppress this warning.\n",
      "A parameter name that contains `beta` will be renamed internally to `bias`. Please use a different name to suppress this warning.\n",
      "A parameter name that contains `gamma` will be renamed internally to `weight`. Please use a different name to suppress this warning.\n",
      "A parameter name that contains `beta` will be renamed internally to `bias`. Please use a different name to suppress this warning.\n",
      "A parameter name that contains `gamma` will be renamed internally to `weight`. Please use a different name to suppress this warning.\n",
      "A parameter name that contains `beta` will be renamed internally to `bias`. Please use a different name to suppress this warning.\n",
      "A parameter name that contains `gamma` will be renamed internally to `weight`. Please use a different name to suppress this warning.\n",
      "A parameter name that contains `beta` will be renamed internally to `bias`. Please use a different name to suppress this warning.\n",
      "A parameter name that contains `gamma` will be renamed internally to `weight`. Please use a different name to suppress this warning.\n",
      "A parameter name that contains `beta` will be renamed internally to `bias`. Please use a different name to suppress this warning.\n",
      "A parameter name that contains `gamma` will be renamed internally to `weight`. Please use a different name to suppress this warning.\n",
      "A parameter name that contains `beta` will be renamed internally to `bias`. Please use a different name to suppress this warning.\n",
      "A parameter name that contains `gamma` will be renamed internally to `weight`. Please use a different name to suppress this warning.\n",
      "A parameter name that contains `beta` will be renamed internally to `bias`. Please use a different name to suppress this warning.\n",
      "A parameter name that contains `gamma` will be renamed internally to `weight`. Please use a different name to suppress this warning.\n",
      "A parameter name that contains `beta` will be renamed internally to `bias`. Please use a different name to suppress this warning.\n",
      "A parameter name that contains `gamma` will be renamed internally to `weight`. Please use a different name to suppress this warning.\n",
      "A parameter name that contains `beta` will be renamed internally to `bias`. Please use a different name to suppress this warning.\n",
      "A parameter name that contains `gamma` will be renamed internally to `weight`. Please use a different name to suppress this warning.\n",
      "A parameter name that contains `beta` will be renamed internally to `bias`. Please use a different name to suppress this warning.\n",
      "A parameter name that contains `gamma` will be renamed internally to `weight`. Please use a different name to suppress this warning.\n",
      "A parameter name that contains `beta` will be renamed internally to `bias`. Please use a different name to suppress this warning.\n",
      "A parameter name that contains `gamma` will be renamed internally to `weight`. Please use a different name to suppress this warning.\n",
      "A parameter name that contains `beta` will be renamed internally to `bias`. Please use a different name to suppress this warning.\n",
      "A parameter name that contains `gamma` will be renamed internally to `weight`. Please use a different name to suppress this warning.\n",
      "A parameter name that contains `beta` will be renamed internally to `bias`. Please use a different name to suppress this warning.\n",
      "A parameter name that contains `gamma` will be renamed internally to `weight`. Please use a different name to suppress this warning.\n",
      "A parameter name that contains `beta` will be renamed internally to `bias`. Please use a different name to suppress this warning.\n",
      "A parameter name that contains `gamma` will be renamed internally to `weight`. Please use a different name to suppress this warning.\n",
      "A parameter name that contains `beta` will be renamed internally to `bias`. Please use a different name to suppress this warning.\n",
      "A parameter name that contains `gamma` will be renamed internally to `weight`. Please use a different name to suppress this warning.\n",
      "A parameter name that contains `beta` will be renamed internally to `bias`. Please use a different name to suppress this warning.\n",
      "A parameter name that contains `gamma` will be renamed internally to `weight`. Please use a different name to suppress this warning.\n",
      "A parameter name that contains `beta` will be renamed internally to `bias`. Please use a different name to suppress this warning.\n",
      "A parameter name that contains `gamma` will be renamed internally to `weight`. Please use a different name to suppress this warning.\n",
      "A parameter name that contains `beta` will be renamed internally to `bias`. Please use a different name to suppress this warning.\n",
      "A parameter name that contains `gamma` will be renamed internally to `weight`. Please use a different name to suppress this warning.\n",
      "A parameter name that contains `beta` will be renamed internally to `bias`. Please use a different name to suppress this warning.\n",
      "A parameter name that contains `gamma` will be renamed internally to `weight`. Please use a different name to suppress this warning.\n",
      "A parameter name that contains `beta` will be renamed internally to `bias`. Please use a different name to suppress this warning.\n",
      "A parameter name that contains `gamma` will be renamed internally to `weight`. Please use a different name to suppress this warning.\n",
      "A parameter name that contains `beta` will be renamed internally to `bias`. Please use a different name to suppress this warning.\n",
      "A parameter name that contains `gamma` will be renamed internally to `weight`. Please use a different name to suppress this warning.\n"
     ]
    }
   ],
   "source": [
    "from data_ledgar import prepare_ledgar_data\n",
    "train_loader, test_loader, val_loader, train_df, val_df, test_df = prepare_ledgar_data(config)"
   ]
  },
  {
   "cell_type": "markdown",
   "metadata": {
    "application/vnd.databricks.v1+cell": {
     "cellMetadata": {},
     "inputWidgets": {},
     "nuid": "4df7cf22-d442-43ca-91e8-fc97155c4c0a",
     "showTitle": false,
     "tableResultSettingsMap": {},
     "title": ""
    }
   },
   "source": [
    "# 2. retrieve concepts list"
   ]
  },
  {
   "cell_type": "markdown",
   "metadata": {},
   "source": [
    "ledgar"
   ]
  },
  {
   "cell_type": "code",
   "execution_count": 10,
   "metadata": {
    "application/vnd.databricks.v1+cell": {
     "cellMetadata": {
      "byteLimit": 2048000,
      "rowLimit": 10000
     },
     "inputWidgets": {},
     "nuid": "4ebbf53e-828a-4ec9-b895-19cefc983c63",
     "showTitle": false,
     "tableResultSettingsMap": {},
     "title": ""
    }
   },
   "outputs": [],
   "source": [
    "Amendments_concepts = ['Modification rights', 'Amendment procedures', 'Notice requirements', 'Approval mechanisms',\n",
    "                       'Integration with original agreement', 'Format requirements', 'Severability of amendments', 'Retroactive application',\n",
    "                       'Waiver limitations', 'Amendment thresholds', 'Unilateral amendment rights', 'Amendment restrictions', \n",
    "                       'Prior versions validity', 'Amendment documentation',\n",
    "                       'Version control mechanisms', 'Material change provisions']\n",
    "\n",
    "Terminations_concepts = ['Termination rights', 'Notice periods', 'Termination for cause', 'Termination for convenience',\n",
    "                         'Cure periods', 'Effect of termination', 'Wind-down procedures', 'Return of property/information',\n",
    "                         'Early termination penalties', 'Mutual termination provisions', 'Partial termination rights',\n",
    "                         'Force majeure termination', 'Change of control provisions', 'Bankruptcy/insolvency triggers',\n",
    "                         'Performance-based termination', 'Regulatory/legal change termination', 'Exit assistance',\n",
    "                         'Termination certification requirements', 'Post-termination restrictions', 'Transition obligations']\n",
    "\n",
    "Survival_concepts = ['Post-termination obligations', 'Duration of surviving terms', 'Identification of specific clauses',\n",
    "                     'Confidentiality persistence', 'IP rights retention', 'Indemnification continuation',\n",
    "                     'Limitation of liability', 'Dispute resolution mechanisms', 'Payment obligations survival',\n",
    "                     'Non-compete/non-solicitation persistence', 'Representations/warranties survival',\n",
    "                     'Record-keeping requirements', 'Audit rights continuation', 'Escrow arrangements', \n",
    "                     'Insurance obligations', 'Remedies availability post-termination', 'Data protection obligations',\n",
    "                     'Perpetual rights', 'Transitional licenses', 'Legal compliance requirements']\n",
    "\n",
    "Terms_concepts = ['Duration specifications', 'Commencement date', 'Expiration conditions', 'Renewal mechanisms',\n",
    "                  'Term length', 'Condition precedents', 'Milestone-based periods', 'Extension options',\n",
    "                  'Initial term vs. renewal term distinctions', 'Notice requirements for non-renewal',\n",
    "                  'Evergreen provisions', 'Term modification triggers', 'Retroactive effective dates',\n",
    "                  'Trial/probation periods', 'Minimum commitment periods', 'Maximum term limitations',\n",
    "                  'Regulatory term constraints', 'Performance-based extensions', 'Phase-in schedules', \n",
    "                  'Renegotiation periods', 'Term acceleration provisions', 'Rolling term provisions']\n",
    "\n",
    "concept_ledgar = Amendments_concepts + Survival_concepts + Terms_concepts + Terminations_concepts\n",
    "\n",
    "concept_data_legdar_by_class = {\n",
    "                                'Amendments': Amendments_concepts, \n",
    "                                'Survival': Survival_concepts, \n",
    "                                'Terms': Terms_concepts, \n",
    "                                'Terminations': Terminations_concepts\n",
    "                               }\n",
    "data = [{'ledgar':concept_data_legdar_by_class}]"
   ]
  },
  {
   "cell_type": "markdown",
   "metadata": {},
   "source": [
    "movies, agnews, medical, dbpedia"
   ]
  },
  {
   "cell_type": "code",
   "execution_count": null,
   "metadata": {},
   "outputs": [],
   "source": [
    "# import pickle \n",
    "# # open a file, where you stored the pickled data\n",
    "# file = open('concepts_CB_LLM.pkl', 'rb')\n",
    "\n",
    "# # dump information to that file\n",
    "# data = pickle.load(file)\n",
    "\n",
    "# # close the file\n",
    "# file.close()\n",
    "# data[0].keys()"
   ]
  },
  {
   "cell_type": "markdown",
   "metadata": {},
   "source": [
    "# 3. compute cosine SCORE"
   ]
  },
  {
   "cell_type": "code",
   "execution_count": 6,
   "metadata": {
    "application/vnd.databricks.v1+cell": {
     "cellMetadata": {
      "byteLimit": 2048000,
      "rowLimit": 10000
     },
     "inputWidgets": {},
     "nuid": "9c55790f-06bb-4aa8-8954-f4517f4d3c35",
     "showTitle": false,
     "tableResultSettingsMap": {},
     "title": ""
    }
   },
   "outputs": [],
   "source": [
    "from annotation_CB_LLM import get_annotation_CB_LLM"
   ]
  },
  {
   "cell_type": "code",
   "execution_count": null,
   "metadata": {
    "application/vnd.databricks.v1+cell": {
     "cellMetadata": {
      "byteLimit": 2048000,
      "rowLimit": 10000
     },
     "inputWidgets": {},
     "nuid": "fe7923a2-a1b6-4401-a666-77c9f013b45b",
     "showTitle": false,
     "tableResultSettingsMap": {},
     "title": ""
    },
    "scrolled": true
   },
   "outputs": [],
   "source": [
    "for i,c in enumerate(concept_ledgar):\n",
    "    similarities = get_annotation_CB_LLM(train_df.text.tolist(), c, model = \"all-mpnet-base-v2\")\n",
    "    train_df[c] = similarities.tolist()[0]\n"
   ]
  },
  {
   "cell_type": "code",
   "execution_count": null,
   "metadata": {
    "application/vnd.databricks.v1+cell": {
     "cellMetadata": {
      "byteLimit": 2048000,
      "rowLimit": 10000
     },
     "inputWidgets": {},
     "nuid": "73f30aa2-e1a6-48cd-9c6c-307672e39dc9",
     "showTitle": false,
     "tableResultSettingsMap": {},
     "title": ""
    }
   },
   "outputs": [],
   "source": [
    "train_df.to_csv(f'{config.SAVE_PATH_CONCEPTS}/df_with_topics_v4_CB_LLM.csv')"
   ]
  },
  {
   "cell_type": "code",
   "execution_count": null,
   "metadata": {},
   "outputs": [],
   "source": [
    "for i,c in enumerate(concept_ledgar):\n",
    "    similarities = get_annotation_CB_LLM(test_df.text.tolist(), c, model)\n",
    "    test_df[c] = similarities.tolist()[0]\n"
   ]
  },
  {
   "cell_type": "code",
   "execution_count": null,
   "metadata": {},
   "outputs": [],
   "source": [
    "test_df.to_csv(f'{config.SAVE_PATH_CONCEPTS}/df_with_topics_v4_CB_LLM_test.csv')"
   ]
  },
  {
   "cell_type": "markdown",
   "metadata": {
    "application/vnd.databricks.v1+cell": {
     "cellMetadata": {},
     "inputWidgets": {},
     "nuid": "8a6d0ff3-b0ae-494e-bec4-324ee936baa1",
     "showTitle": false,
     "tableResultSettingsMap": {},
     "title": ""
    }
   },
   "source": [
    "## ACC filtering"
   ]
  },
  {
   "cell_type": "code",
   "execution_count": 4,
   "metadata": {},
   "outputs": [],
   "source": [
    "from annotation_CB_LLM import mapping_concept_label"
   ]
  },
  {
   "cell_type": "code",
   "execution_count": null,
   "metadata": {
    "application/vnd.databricks.v1+cell": {
     "cellMetadata": {
      "byteLimit": 2048000,
      "rowLimit": 10000
     },
     "inputWidgets": {},
     "nuid": "5ca70cff-f413-4ba6-ba0e-947249c2339d",
     "showTitle": false,
     "tableResultSettingsMap": {},
     "title": ""
    }
   },
   "outputs": [],
   "source": [
    "# ledgar has 100 inital label\n",
    "caption = [\"Adjustments\", \"Agreements\", \"Amendments\", \"Anti-Corruption Laws\", \"Applicable Laws\", \"Approvals\", \"Arbitration\", \n",
    "           \"Assignments\", \"Assigns\", \"Authority\", \"Authorizations\", \"Base Salary\", \"Benefits\", \"Binding Effects\", \"Books\", \"Brokers\",\n",
    "           \"Capitalization\", \"Change In Control\", \"Closings\", \"Compliance With Laws\", \"Confidentiality\", \"Consent To Jurisdiction\", \n",
    "           \"Consents\", \"Construction\", \"Cooperation\", \"Costs\", \"Counterparts\", \"Death\", \"Defined Terms\", \"Definitions\", \"Disability\", \n",
    "           \"Disclosures\", \"Duties\", \"Effective Dates\", \"Effectiveness\", \"Employment\", \"Enforceability\", \"Enforcements\", \"Entire Agreements\", \n",
    "           \"Erisa\", \"Existence\", \"Expenses\", \"Fees\", \"Financial Statements\", \"Forfeitures\", \"Further Assurances\", \"General\", \"Governing Laws\", \n",
    "           \"Headings\", \"Indemnifications\", \"Indemnity\", \"Insurances\", \"Integration\", \"Intellectual Property\", \"Interests\", \"Interpretations\", \n",
    "           \"Jurisdictions\", \"Liens\", \"Litigations\", \"Miscellaneous\", \"Modifications\", \"No Conflicts\", \"No Defaults\", \"No Waivers\", \n",
    "           \"Non-Disparagement\", \"Notices\", \"Organizations\", \"Participations\", \"Payments\", \"Positions\", \"Powers\", \"Publicity\",\n",
    "           \"Qualifications\", \"Records\", \"Releases\", \"Remedies\", \"Representations\", \"Sales\", \"Sanctions\", \"Severability\", \"Solvency\",\n",
    "           \"Specific Performance\", \"Submission To Jurisdiction\", \"Subsidiaries\", \"Successors\", \"Survival\", \"Tax Withholdings\", \"Taxes\",\n",
    "           \"Terminations\", \"Terms\", \"Titles\", \"Transactions With Affiliates\", \n",
    "           \"Use Of Proceeds\", \"Vacations\", \"Venues\", \"Vesting\", \"Waiver Of Jury Trials\", \"Waivers\", \"Warranties\", \"Withholdings\"]\n",
    "\n",
    "dict = { pos : name for pos,name in enumerate(caption)}"
   ]
  },
  {
   "cell_type": "code",
   "execution_count": null,
   "metadata": {},
   "outputs": [],
   "source": [
    "import os\n",
    "import json\n",
    "with open(os.path.join(config.SAVE_PATH_CONCEPTS, \"label_mapping.json\"), 'r') as f:\n",
    "    labelling_json = json.load(f)\n",
    "labelling_json\n",
    "# with open(file_path, 'r') as f:\n",
    "#     label_to_id = json.load(f)\n",
    "\n",
    "[dict[int(a)] for a in labelling_json.keys()]\n",
    "\n"
   ]
  },
  {
   "cell_type": "code",
   "execution_count": null,
   "metadata": {},
   "outputs": [],
   "source": [
    "labelling_json"
   ]
  },
  {
   "cell_type": "code",
   "execution_count": null,
   "metadata": {
    "application/vnd.databricks.v1+cell": {
     "cellMetadata": {
      "byteLimit": 2048000,
      "rowLimit": 10000
     },
     "inputWidgets": {},
     "nuid": "9888248c-3113-441a-9d45-88ff17a646dd",
     "showTitle": false,
     "tableResultSettingsMap": {},
     "title": ""
    }
   },
   "outputs": [],
   "source": [
    "# dictionary_ledgar = {0: 'documentary', 1: 'comedy', 2: 'horror', 3: 'western'}\n",
    "# {'Amendments': 0, 'Survival': 1, 'Terminations': 2, 'Terms': 3}\n",
    "dictionary_ledgar = {0: 'Amendments', 1: 'Survival', 2: 'Terminations', 3: 'Terms'}\n",
    "\n"
   ]
  },
  {
   "cell_type": "code",
   "execution_count": null,
   "metadata": {
    "scrolled": true
   },
   "outputs": [],
   "source": [
    "train_df['label'] = train_df['label'].map(dictionary_ledgar)\n",
    "train_df = train_df.reset_index(drop=True)\n",
    "train_df"
   ]
  },
  {
   "cell_type": "code",
   "execution_count": null,
   "metadata": {
    "application/vnd.databricks.v1+cell": {
     "cellMetadata": {
      "byteLimit": 2048000,
      "rowLimit": 10000
     },
     "inputWidgets": {},
     "nuid": "146afc52-7493-4843-b287-cdb575254c8b",
     "showTitle": false,
     "tableResultSettingsMap": {},
     "title": ""
    },
    "scrolled": true
   },
   "outputs": [],
   "source": [
    "for i in range(train_df.shape[0]):\n",
    "    print(i)\n",
    "    label = train_df['label'][i].values\n",
    "    for c in concept_all:\n",
    "        mapping = mapping_concept_label('ledgar', label, c, data)\n",
    "        if mapping == 0 :\n",
    "            train_df[c][i]=0\n",
    "        else:\n",
    "            pass"
   ]
  },
  {
   "cell_type": "code",
   "execution_count": null,
   "metadata": {
    "application/vnd.databricks.v1+cell": {
     "cellMetadata": {
      "byteLimit": 2048000,
      "rowLimit": 10000
     },
     "inputWidgets": {},
     "nuid": "dc56fc55-d985-4ff5-a4df-b7a2f0d4616e",
     "showTitle": false,
     "tableResultSettingsMap": {},
     "title": ""
    }
   },
   "outputs": [],
   "source": [
    "# Dictionnaire initial\n",
    "dictionary_ledgar = {0: 'Amendments', 1: 'Survival', 2: 'Terminations', 3: 'Terms'}\n",
    "\n",
    "# Inverser le dictionnaire\n",
    "label_to_int = {v: k for k, v in dictionary_ledgar.items()}\n",
    "\n",
    "# Appliquer le mapping inverse\n",
    "train_df['label'] = train_df['label'].map(label_to_int)\n",
    "\n",
    "train_df.to_csv(config.SAVE_PATH_CONCEPTS + '/df_with_topics_v4_CB_LLM_ACC.csv')\n"
   ]
  },
  {
   "cell_type": "markdown",
   "metadata": {},
   "source": [
    "# test "
   ]
  },
  {
   "cell_type": "code",
   "execution_count": null,
   "metadata": {},
   "outputs": [],
   "source": [
    "test_df['label'] = test_df['label'].map(dictionary_ledgar)\n",
    "test_df = test_df.reset_index(drop=True)\n",
    "test_df"
   ]
  },
  {
   "cell_type": "code",
   "execution_count": null,
   "metadata": {},
   "outputs": [],
   "source": [
    "for i in range(test_df.shape[0]):\n",
    "    print(i)\n",
    "    label = test_df['label'][i]\n",
    "    for c in concept_all:\n",
    "        mapping = mapping_concept_label('ledgar', label, c, data)\n",
    "        if mapping == 0 :\n",
    "            test_df[c][i]=0\n",
    "        else:\n",
    "            pass"
   ]
  },
  {
   "cell_type": "code",
   "execution_count": null,
   "metadata": {},
   "outputs": [],
   "source": [
    "# Dictionnaire initial\n",
    "dictionary_ledgar = {0: 'Amendments', 1: 'Survival', 2: 'Terminations', 3: 'Terms'}\n",
    "\n",
    "# Inverser le dictionnaire\n",
    "label_to_int = {v: k for k, v in dictionary_ledgar.items()}\n",
    "\n",
    "# Appliquer le mapping inverse\n",
    "test_df['label'] = test_df['label'].map(label_to_int)\n",
    "\n",
    "test_df.to_csv(config.SAVE_PATH_CONCEPTS + '/df_with_topics_v4_CB_LLM_ACC_test.csv')\n"
   ]
  }
 ],
 "metadata": {
  "application/vnd.databricks.v1+notebook": {
   "computePreferences": null,
   "dashboards": [],
   "environmentMetadata": {
    "base_environment": "",
    "environment_version": "1"
   },
   "language": "python",
   "notebookMetadata": {
    "pythonIndentUnit": 4
   },
   "notebookName": "SOTA_MiB.ipynb",
   "widgets": {}
  },
  "kernelspec": {
   "display_name": "Python 3 (ipykernel)",
   "language": "python",
   "name": "python3"
  },
  "language_info": {
   "codemirror_mode": {
    "name": "ipython",
    "version": 3
   },
   "file_extension": ".py",
   "mimetype": "text/x-python",
   "name": "python",
   "nbconvert_exporter": "python",
   "pygments_lexer": "ipython3",
   "version": "3.12.3"
  }
 },
 "nbformat": 4,
 "nbformat_minor": 4
}
